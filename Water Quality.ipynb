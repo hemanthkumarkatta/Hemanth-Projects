{
  "nbformat": 4,
  "nbformat_minor": 0,
  "metadata": {
    "colab": {
      "provenance": [],
      "authorship_tag": "ABX9TyP0evCN9Tb7kX1P8A2o7ZWN",
      "include_colab_link": true
    },
    "kernelspec": {
      "name": "python3",
      "display_name": "Python 3"
    },
    "language_info": {
      "name": "python"
    }
  },
  "cells": [
    {
      "cell_type": "markdown",
      "metadata": {
        "id": "view-in-github",
        "colab_type": "text"
      },
      "source": [
        "<a href=\"https://colab.research.google.com/github/hemanthkumarkatta/Slashmark-ML/blob/main/Water%20Quality.ipynb\" target=\"_parent\"><img src=\"https://colab.research.google.com/assets/colab-badge.svg\" alt=\"Open In Colab\"/></a>"
      ]
    },
    {
      "cell_type": "code",
      "source": [
        "import tkinter as tk\n",
        "\n",
        "import matplotlib.pyplot as plt\n",
        "from tkinter.filedialog import askopenfilename\n",
        "from tensorflow.keras.models import Sequential\n",
        "import cv2\n",
        "from PIL import Image, ImageTk\n",
        "from tkinter import *\n",
        "import tkinter\n",
        "\n",
        "from tkinter import *\n",
        "from tkinter import filedialog\n",
        "import os\n",
        "\n",
        "\n",
        "from PIL import Image\n",
        "from numpy import asarray\n",
        "\n",
        "import numpy as np\n",
        "from skimage import color\n",
        "from skimage import io\n",
        "from tkinter.filedialog import askopenfilename\n",
        "import cv2\n",
        "\n",
        "import os\n",
        "import matplotlib.pyplot as plt\n",
        "import cv2\n",
        "from PIL import ImageTk, Image\n",
        "from cv2 import *\n",
        "import random\n",
        "from PIL import Image as im"
      ],
      "metadata": {
        "id": "o_YNwtNndIVm"
      },
      "execution_count": null,
      "outputs": []
    },
    {
      "cell_type": "code",
      "source": [
        "!apt-get install -y xvfb"
      ],
      "metadata": {
        "colab": {
          "base_uri": "https://localhost:8080/"
        },
        "id": "cCKaR6gHY_Zh",
        "outputId": "eaaad65c-8e3d-42df-9f06-153cc5f5701e"
      },
      "execution_count": null,
      "outputs": [
        {
          "output_type": "stream",
          "name": "stdout",
          "text": [
            "Reading package lists... Done\n",
            "Building dependency tree... Done\n",
            "Reading state information... Done\n",
            "xvfb is already the newest version (2:21.1.4-2ubuntu1.7~22.04.10).\n",
            "0 upgraded, 0 newly installed, 0 to remove and 45 not upgraded.\n"
          ]
        }
      ]
    },
    {
      "cell_type": "code",
      "source": [
        "import os\n",
        "os.system('Xvfb :1 -screen 0 1920x1080x24 &')\n",
        "os.environ['DISPLAY']=':1.0'"
      ],
      "metadata": {
        "id": "AD3iSxaFY_ck"
      },
      "execution_count": null,
      "outputs": []
    },
    {
      "cell_type": "code",
      "source": [
        "\n",
        "root = tk.Tk()\n",
        "\n",
        "root.geometry(\"900x470\")\n",
        "\n",
        "root.resizable(width=True, height=True)\n",
        "\n",
        "root.title(\" Water Quality Prediction \")\n",
        "\n",
        "root['bg']='bisque'\n",
        "\n",
        "img = None\n",
        "resized_image = None\n",
        "\n",
        "canvas = Canvas(root, width=1000, height=1000)\n",
        "\n",
        "canvas.pack()\n",
        "img = ImageTk.PhotoImage(Image.open(\"1.png\"))\n",
        "canvas.create_image(2, 20, anchor=NW, image=img)"
      ],
      "metadata": {
        "colab": {
          "base_uri": "https://localhost:8080/"
        },
        "id": "l3xPZ7MXY_fm",
        "outputId": "409a2b0d-3ffe-4b22-c9bb-6313aa25d8e6"
      },
      "execution_count": null,
      "outputs": [
        {
          "output_type": "execute_result",
          "data": {
            "text/plain": [
              "1"
            ]
          },
          "metadata": {},
          "execution_count": 7
        }
      ]
    },
    {
      "cell_type": "code",
      "source": [
        "import pandas as pd\n",
        "from sklearn import preprocessing\n",
        "import warnings\n",
        "warnings.filterwarnings(\"ignore\")\n",
        "#============================= DATA SELECTION ==============================\n",
        "dataframe=pd.read_csv(\"water_potability.csv\")\n",
        "print(\"----------------------------------------------------\")\n",
        "print(\"Input Data          \")\n",
        "print(\"----------------------------------------------------\")\n",
        "print()\n",
        "print(dataframe.head(20))\n",
        "\n"
      ],
      "metadata": {
        "colab": {
          "base_uri": "https://localhost:8080/"
        },
        "id": "Xl0BzBVfY_jC",
        "outputId": "6dc24c50-1232-4172-ffc5-b027edf7d900"
      },
      "execution_count": null,
      "outputs": [
        {
          "output_type": "stream",
          "name": "stdout",
          "text": [
            "----------------------------------------------------\n",
            "Input Data          \n",
            "----------------------------------------------------\n",
            "\n",
            "           ph    Hardness        Solids  Chloramines     Sulfate  \\\n",
            "0         NaN  204.890455  20791.318981     7.300212  368.516441   \n",
            "1    3.716080  129.422921  18630.057858     6.635246         NaN   \n",
            "2    8.099124  224.236259  19909.541732     9.275884         NaN   \n",
            "3    8.316766  214.373394  22018.417441     8.059332  356.886136   \n",
            "4    9.092223  181.101509  17978.986339     6.546600  310.135738   \n",
            "5    5.584087  188.313324  28748.687739     7.544869  326.678363   \n",
            "6   10.223862  248.071735  28749.716544     7.513408  393.663396   \n",
            "7    8.635849  203.361523  13672.091764     4.563009  303.309771   \n",
            "8         NaN  118.988579  14285.583854     7.804174  268.646941   \n",
            "9   11.180284  227.231469  25484.508491     9.077200  404.041635   \n",
            "10   7.360640  165.520797  32452.614409     7.550701  326.624353   \n",
            "11   7.974522  218.693300  18767.656682     8.110385         NaN   \n",
            "12   7.119824  156.704993  18730.813653     3.606036  282.344050   \n",
            "13        NaN  150.174923  27331.361962     6.838223  299.415781   \n",
            "14   7.496232  205.344982  28388.004887     5.072558         NaN   \n",
            "15   6.347272  186.732881  41065.234765     9.629596  364.487687   \n",
            "16   7.051786  211.049406  30980.600787    10.094796         NaN   \n",
            "17   9.181560  273.813807  24041.326280     6.904990  398.350517   \n",
            "18   8.975464  279.357167  19460.398131     6.204321         NaN   \n",
            "19   7.371050  214.496610  25630.320037     4.432669  335.754439   \n",
            "\n",
            "    Conductivity  Organic_carbon  Trihalomethanes  Turbidity  Potability  \n",
            "0     564.308654       10.379783        86.990970   2.963135           0  \n",
            "1     592.885359       15.180013        56.329076   4.500656           0  \n",
            "2     418.606213       16.868637        66.420093   3.055934           0  \n",
            "3     363.266516       18.436524       100.341674   4.628771           0  \n",
            "4     398.410813       11.558279        31.997993   4.075075           0  \n",
            "5     280.467916        8.399735        54.917862   2.559708           0  \n",
            "6     283.651634       13.789695        84.603556   2.672989           0  \n",
            "7     474.607645       12.363817        62.798309   4.401425           0  \n",
            "8     389.375566       12.706049        53.928846   3.595017           0  \n",
            "9     563.885481       17.927806        71.976601   4.370562           0  \n",
            "10    425.383419       15.586810        78.740016   3.662292           0  \n",
            "11    364.098230       14.525746        76.485911   4.011718           0  \n",
            "12    347.715027       15.929536        79.500778   3.445756           0  \n",
            "13    379.761835       19.370807        76.509996   4.413974           0  \n",
            "14    444.645352       13.228311        70.300213   4.777382           0  \n",
            "15    516.743282       11.539781        75.071617   4.376348           0  \n",
            "16    315.141267       20.397022        56.651604   4.268429           0  \n",
            "17    477.974642       13.387341        71.457362   4.503661           0  \n",
            "18    431.443990       12.888759        63.821237   2.436086           0  \n",
            "19    469.914551       12.509164        62.797277   2.560299           0  \n"
          ]
        }
      ]
    },
    {
      "cell_type": "code",
      "source": [
        "#============================= PREPROCESSING ==============================\n",
        "\n",
        "#==== checking missing values ====\n",
        "\n",
        "print(\"----------------------------------------------------\")\n",
        "print(\"Before checking Missing Values          \")\n",
        "print(\"----------------------------------------------------\")\n",
        "print()\n",
        "print(dataframe.isnull().sum())\n",
        "print(\"----------------------------------------------------\")\n",
        "print(\"After checking Missing Values          \")\n",
        "print(\"----------------------------------------------------\")\n",
        "print()\n",
        "dataframe=dataframe.fillna(dataframe.mean())\n",
        "print(dataframe.isnull().sum())\n",
        "\n",
        "\n"
      ],
      "metadata": {
        "colab": {
          "base_uri": "https://localhost:8080/"
        },
        "id": "838w9ohUZAGM",
        "outputId": "ff9ffea6-4840-46ec-a661-16c09d43c49c"
      },
      "execution_count": null,
      "outputs": [
        {
          "output_type": "stream",
          "name": "stdout",
          "text": [
            "----------------------------------------------------\n",
            "Before checking Missing Values          \n",
            "----------------------------------------------------\n",
            "\n",
            "ph                 491\n",
            "Hardness             0\n",
            "Solids               0\n",
            "Chloramines          0\n",
            "Sulfate            781\n",
            "Conductivity         0\n",
            "Organic_carbon       0\n",
            "Trihalomethanes    162\n",
            "Turbidity            0\n",
            "Potability           0\n",
            "dtype: int64\n",
            "----------------------------------------------------\n",
            "After checking Missing Values          \n",
            "----------------------------------------------------\n",
            "\n",
            "ph                 0\n",
            "Hardness           0\n",
            "Solids             0\n",
            "Chloramines        0\n",
            "Sulfate            0\n",
            "Conductivity       0\n",
            "Organic_carbon     0\n",
            "Trihalomethanes    0\n",
            "Turbidity          0\n",
            "Potability         0\n",
            "dtype: int64\n"
          ]
        }
      ]
    },
    {
      "cell_type": "code",
      "source": [
        "#========================= DATA SPLITTING ==============================\n",
        "print(\"----------------------------------------------------\")\n",
        "print(\"Data Splitting          \")\n",
        "print(\"----------------------------------------------------\")\n",
        "print()\n",
        "from sklearn.model_selection import train_test_split\n",
        "X = dataframe.drop('Potability', axis=1)\n",
        "y = dataframe['Potability']\n",
        "X_train, X_test, y_train, y_test = train_test_split(X, y, train_size=0.3, test_size=0.3, random_state=100)\n",
        "print(\"Total no of data's       :\",dataframe.shape[0])\n",
        "print()\n",
        "print(\"Total no of Train data's :\",X_train.shape[0])\n",
        "print()\n",
        "print(\"Total no of Test data's  :\",X_test.shape[0])\n",
        "#1-- safe and 0-- not safe"
      ],
      "metadata": {
        "colab": {
          "base_uri": "https://localhost:8080/"
        },
        "id": "P1g_1pc3oOkw",
        "outputId": "a717676d-3bd1-4c8b-8e1a-ff97560375dd"
      },
      "execution_count": null,
      "outputs": [
        {
          "output_type": "stream",
          "name": "stdout",
          "text": [
            "----------------------------------------------------\n",
            "Data Splitting          \n",
            "----------------------------------------------------\n",
            "\n",
            "Total no of data's       : 3276\n",
            "\n",
            "Total no of Train data's : 982\n",
            "\n",
            "Total no of Test data's  : 983\n"
          ]
        }
      ]
    },
    {
      "cell_type": "code",
      "source": [
        "#========================= CLASSIFICATION ==============================\n",
        "\n",
        "# ==== CNN WITH LSTM ====\n",
        "\n",
        "from tensorflow.keras.layers import Dense\n",
        "from tensorflow.keras.layers import Conv1D,MaxPooling1D\n",
        "from tensorflow.keras.layers import LSTM\n",
        "from tensorflow.keras.layers import  Dropout\n",
        "from tensorflow.keras.models import Sequential\n",
        "import matplotlib.pyplot as plt\n",
        "from tensorflow.keras.layers import Activation\n",
        "\n",
        "import numpy as np\n",
        "Xx=np.expand_dims(X_train, axis=2)\n",
        "Yy=np.expand_dims(y_train,axis=1)\n",
        "\n",
        "nb_out = 1\n",
        "\n",
        "\n",
        "print(\"----------------------------------------------------\")\n",
        "print(\"Hybrid CNN With LSTM          \")\n",
        "print(\"----------------------------------------------------\")\n",
        "print()\n",
        "\n",
        "    # Initialize the layer\n",
        "model = Sequential()\n",
        "\n",
        "    # LSTM layer\n",
        "model.add(LSTM(input_shape=(9,1), units=100, return_sequences=True))\n",
        "model.add(Dropout(0.2))\n",
        "\n",
        "    # CNN layer\n",
        "model.add(Conv1D(filters=32, kernel_size=3, padding='same', activation='relu'))\n",
        "model.add(MaxPooling1D(pool_size=2))\n",
        "\n",
        "    # LSTM layer\n",
        "model.add(LSTM(units=50, return_sequences=False))\n",
        "model.add(Dropout(0.2))\n",
        "\n",
        "    # CNN layer\n",
        "model.add(Dense(units=nb_out))\n",
        "model.add(Activation(\"linear\"))\n",
        "\n",
        "    # Compile layer\n",
        "model.compile(loss=\"mae\", optimizer=\"adam\", metrics=['Accuracy','mae','mse'])\n",
        "print(model.summary())\n",
        "\n",
        "\n",
        "    # Fit the layer\n",
        "his_lstm=model.fit(Xx, Yy, epochs=3, batch_size=32, validation_split=0.1, verbose=1)\n",
        "\n",
        "\n",
        "mae_lstm =model.evaluate(Xx, Yy, verbose=2)[2]\n",
        "\n",
        "mse_lstm =model.evaluate(Xx, Yy, verbose=2)[3]\n",
        "\n",
        "\n",
        "y_pred1 = model.predict(Xx)\n",
        "\n",
        "y_pred11 = (y_pred1 > 0.3)\n",
        "\n",
        "y_pred11=y_pred11.astype('uint8')\n"
      ],
      "metadata": {
        "colab": {
          "base_uri": "https://localhost:8080/"
        },
        "id": "1MuqkoNpoA0a",
        "outputId": "e9803f2c-59da-410a-a56a-0b822ae75c97"
      },
      "execution_count": null,
      "outputs": [
        {
          "output_type": "stream",
          "name": "stdout",
          "text": [
            "----------------------------------------------------\n",
            "Hybrid CNN With LSTM          \n",
            "----------------------------------------------------\n",
            "\n",
            "Model: \"sequential\"\n",
            "_________________________________________________________________\n",
            " Layer (type)                Output Shape              Param #   \n",
            "=================================================================\n",
            " lstm (LSTM)                 (None, 9, 100)            40800     \n",
            "                                                                 \n",
            " dropout (Dropout)           (None, 9, 100)            0         \n",
            "                                                                 \n",
            " conv1d (Conv1D)             (None, 9, 32)             9632      \n",
            "                                                                 \n",
            " max_pooling1d (MaxPooling1  (None, 4, 32)             0         \n",
            " D)                                                              \n",
            "                                                                 \n",
            " lstm_1 (LSTM)               (None, 50)                16600     \n",
            "                                                                 \n",
            " dropout_1 (Dropout)         (None, 50)                0         \n",
            "                                                                 \n",
            " dense (Dense)               (None, 1)                 51        \n",
            "                                                                 \n",
            " activation (Activation)     (None, 1)                 0         \n",
            "                                                                 \n",
            "=================================================================\n",
            "Total params: 67083 (262.04 KB)\n",
            "Trainable params: 67083 (262.04 KB)\n",
            "Non-trainable params: 0 (0.00 Byte)\n",
            "_________________________________________________________________\n",
            "None\n",
            "Epoch 1/3\n",
            "28/28 [==============================] - 6s 49ms/step - loss: 0.4083 - Accuracy: 0.6263 - mae: 0.4083 - mse: 0.3408 - val_loss: 0.4611 - val_Accuracy: 0.5455 - val_mae: 0.4611 - val_mse: 0.4604\n",
            "Epoch 2/3\n",
            "28/28 [==============================] - 0s 14ms/step - loss: 0.3824 - Accuracy: 0.6274 - mae: 0.3824 - mse: 0.3564 - val_loss: 0.4557 - val_Accuracy: 0.5455 - val_mae: 0.4557 - val_mse: 0.4435\n",
            "Epoch 3/3\n",
            "28/28 [==============================] - 0s 15ms/step - loss: 0.3754 - Accuracy: 0.6274 - mae: 0.3754 - mse: 0.3677 - val_loss: 0.4547 - val_Accuracy: 0.5455 - val_mae: 0.4547 - val_mse: 0.4546\n",
            "31/31 - 0s - loss: 0.3810 - Accuracy: 0.6191 - mae: 0.3810 - mse: 0.3810 - 145ms/epoch - 5ms/step\n",
            "31/31 - 0s - loss: 0.3810 - Accuracy: 0.6191 - mae: 0.3810 - mse: 0.3810 - 145ms/epoch - 5ms/step\n",
            "31/31 [==============================] - 1s 5ms/step\n"
          ]
        }
      ]
    },
    {
      "cell_type": "code",
      "source": [
        "# from sklearn import metrics\n",
        "\n",
        "    # mae=metrics.mean_absolute_error(y_pred11,Yy)\n",
        "\n",
        "    # mse=metrics.mean_squared_error(y_pred11,Yy)\n",
        "\n",
        "import math\n",
        "rsme_lstm = math.sqrt(mse_lstm)\n",
        "\n",
        "    # mape=metrics.mean_absolute_percentage_error(y_pred11,Yy)\n",
        "\n",
        "print(\"----------------------------------------------------\")\n",
        "print(\"Performance Analysis ----> CNN with LSTM         \")\n",
        "print(\"----------------------------------------------------\")\n",
        "print()\n",
        "print()\n",
        "print(\"1. Mean Absolute Error :\", mae_lstm)\n",
        "print()\n",
        "print(\"2. Mean Squared Error :\", mse_lstm)\n",
        "print()\n",
        "print(\"3. Root Mean Squared Error :\", rsme_lstm)\n",
        "\n",
        "\n",
        "    # ==== CNN WITH GRU ====\n",
        "\n",
        "from tensorflow.keras.layers import Dense, LSTM, Dropout, GRU\n",
        "from keras.optimizers import SGD\n",
        "from tensorflow.keras.models import Sequential\n",
        "\n",
        "\n",
        "print(\"----------------------------------------------------\")\n",
        "print(\"Hybrid CNN With GRU          \")\n",
        "print(\"----------------------------------------------------\")\n",
        "print()\n",
        "\n",
        "from tensorflow.keras.layers import Flatten\n",
        "\n",
        "model2 = Sequential()\n",
        "\n",
        "model2.add(Conv1D(filters=256, kernel_size=1, activation='relu', input_shape = (Xx.shape[1], Xx.shape[2])))\n",
        "\n",
        "model2.add(GRU(units = 256, activation = 'relu',return_sequences=True, input_shape = (Xx.shape[1], Xx.shape[2])))\n",
        "\n",
        "model2.add(GRU(units = 256, activation = 'relu',return_sequences=True, input_shape = (Xx.shape[1], Xx.shape[2])))\n",
        "\n",
        "model2.add(Dense(units = 1))\n",
        "\n",
        "model2.add(Flatten())\n",
        "\n",
        "model2.compile(optimizer = 'adam', loss = 'mae',metrics=['mae','mse'])\n",
        "\n",
        "model2.summary()\n",
        "\n",
        "his_gru=model2.fit(Xx,Yy,epochs=20,batch_size=16,verbose=1)\n",
        "\n",
        "\n",
        "mae_gru =model2.evaluate(Xx, Yy, verbose=2)[1]\n",
        "\n",
        "mse_gru =model2.evaluate(Xx, Yy, verbose=2)[2]\n",
        "\n",
        "y_pred1_gru = model2.predict(Xx)\n",
        "\n",
        "y_pred11_gru = (y_pred1_gru > 0.3)\n",
        "\n",
        "y_pred11_gru=y_pred11.astype('uint8')\n",
        "\n",
        "\n",
        "    # mae_gru=metrics.mean_absolute_error(y_pred11_gru,Yy)\n",
        "\n",
        "    # mse_gru=metrics.mean_squared_error(y_pred11_gru,Yy)\n",
        "\n",
        "import math\n",
        "rsme_gru = math.sqrt(mse_gru)\n",
        "\n",
        "    # mape=metrics.mean_absolute_percentage_error(y_pred11,Yy)\n",
        "\n",
        "print(\"----------------------------------------------------\")\n",
        "print(\"Performance Analysis ----> CNN with GRU         \")\n",
        "print(\"----------------------------------------------------\")\n",
        "print()\n",
        "print()\n",
        "print(\"1. Mean Absolute Error :\", mae_gru)\n",
        "print()\n",
        "print(\"2. Mean Squared Error :\", mse_gru)\n",
        "print()\n",
        "print(\"3. Root Mean Squared Error :\", rsme_gru)"
      ],
      "metadata": {
        "colab": {
          "base_uri": "https://localhost:8080/"
        },
        "id": "oR-Jsn7GpCGu",
        "outputId": "723cc90c-7180-419e-fc04-942506c836f0"
      },
      "execution_count": null,
      "outputs": [
        {
          "output_type": "stream",
          "name": "stdout",
          "text": [
            "----------------------------------------------------\n",
            "Performance Analysis ----> CNN with LSTM         \n",
            "----------------------------------------------------\n",
            "\n",
            "\n",
            "1. Mean Absolute Error : 0.3809906244277954\n",
            "\n",
            "2. Mean Squared Error : 0.38095200061798096\n",
            "\n",
            "3. Root Mean Squared Error : 0.6172130917422126\n",
            "----------------------------------------------------\n",
            "Hybrid CNN With GRU          \n",
            "----------------------------------------------------\n",
            "\n",
            "Model: \"sequential_1\"\n",
            "_________________________________________________________________\n",
            " Layer (type)                Output Shape              Param #   \n",
            "=================================================================\n",
            " conv1d_1 (Conv1D)           (None, 9, 256)            512       \n",
            "                                                                 \n",
            " gru (GRU)                   (None, 9, 256)            394752    \n",
            "                                                                 \n",
            " gru_1 (GRU)                 (None, 9, 256)            394752    \n",
            "                                                                 \n",
            " dense_1 (Dense)             (None, 9, 1)              257       \n",
            "                                                                 \n",
            " flatten (Flatten)           (None, 9)                 0         \n",
            "                                                                 \n",
            "=================================================================\n",
            "Total params: 790273 (3.01 MB)\n",
            "Trainable params: 790273 (3.01 MB)\n",
            "Non-trainable params: 0 (0.00 Byte)\n",
            "_________________________________________________________________\n",
            "Epoch 1/20\n",
            "62/62 [==============================] - 6s 43ms/step - loss: 56.9706 - mae: 56.9706 - mse: 12722.5107\n",
            "Epoch 2/20\n",
            "62/62 [==============================] - 4s 61ms/step - loss: 18.5184 - mae: 18.5184 - mse: 998.2305\n",
            "Epoch 3/20\n",
            "62/62 [==============================] - 3s 41ms/step - loss: 20.3467 - mae: 20.3467 - mse: 962.1332\n",
            "Epoch 4/20\n",
            "62/62 [==============================] - 3s 42ms/step - loss: 9.9678 - mae: 9.9678 - mse: 220.2346\n",
            "Epoch 5/20\n",
            "62/62 [==============================] - 3s 48ms/step - loss: 7.4653 - mae: 7.4653 - mse: 149.5368\n",
            "Epoch 6/20\n",
            "62/62 [==============================] - 3s 55ms/step - loss: 8.4119 - mae: 8.4119 - mse: 176.6091\n",
            "Epoch 7/20\n",
            "62/62 [==============================] - 3s 47ms/step - loss: 17.4947 - mae: 17.4947 - mse: 1147.5958\n",
            "Epoch 8/20\n",
            "62/62 [==============================] - 3s 49ms/step - loss: 13.0872 - mae: 13.0872 - mse: 426.5359\n",
            "Epoch 9/20\n",
            "62/62 [==============================] - 3s 56ms/step - loss: 11.9165 - mae: 11.9165 - mse: 290.0214\n",
            "Epoch 10/20\n",
            "62/62 [==============================] - 3s 54ms/step - loss: 7.6299 - mae: 7.6299 - mse: 138.8792\n",
            "Epoch 11/20\n",
            "62/62 [==============================] - 3s 47ms/step - loss: 5.8639 - mae: 5.8639 - mse: 78.9402\n",
            "Epoch 12/20\n",
            "62/62 [==============================] - 3s 42ms/step - loss: 6.2869 - mae: 6.2869 - mse: 93.8644\n",
            "Epoch 13/20\n",
            "62/62 [==============================] - 3s 42ms/step - loss: 6.2583 - mae: 6.2583 - mse: 93.8225\n",
            "Epoch 14/20\n",
            "62/62 [==============================] - 3s 41ms/step - loss: 5.7445 - mae: 5.7445 - mse: 74.9014\n",
            "Epoch 15/20\n",
            "62/62 [==============================] - 4s 61ms/step - loss: 6.9965 - mae: 6.9965 - mse: 117.9314\n",
            "Epoch 16/20\n",
            "62/62 [==============================] - 3s 41ms/step - loss: 6.8668 - mae: 6.8668 - mse: 99.2859\n",
            "Epoch 17/20\n",
            "62/62 [==============================] - 3s 41ms/step - loss: 5.1717 - mae: 5.1717 - mse: 56.7090\n",
            "Epoch 18/20\n",
            "62/62 [==============================] - 3s 41ms/step - loss: 5.5387 - mae: 5.5387 - mse: 77.9509\n",
            "Epoch 19/20\n",
            "62/62 [==============================] - 4s 65ms/step - loss: 4.2452 - mae: 4.2452 - mse: 41.6581\n",
            "Epoch 20/20\n",
            "62/62 [==============================] - 3s 52ms/step - loss: 4.4164 - mae: 4.4164 - mse: 43.0629\n",
            "31/31 - 1s - loss: 2.4026 - mae: 2.4026 - mse: 9.1467 - 866ms/epoch - 28ms/step\n",
            "31/31 - 0s - loss: 2.4026 - mae: 2.4026 - mse: 9.1467 - 478ms/epoch - 15ms/step\n",
            "31/31 [==============================] - 1s 16ms/step\n",
            "----------------------------------------------------\n",
            "Performance Analysis ----> CNN with GRU         \n",
            "----------------------------------------------------\n",
            "\n",
            "\n",
            "1. Mean Absolute Error : 2.402597427368164\n",
            "\n",
            "2. Mean Squared Error : 9.146735191345215\n",
            "\n",
            "3. Root Mean Squared Error : 3.024356988079485\n"
          ]
        }
      ]
    },
    {
      "cell_type": "code",
      "source": [
        "# ==== LOGISTIC REGRESSION ====\n",
        "\n",
        "\n",
        "from sklearn import linear_model\n",
        "\n",
        "lr=linear_model.LogisticRegression(random_state = 50)\n",
        "\n",
        "    # lr.fit(X,y)\n",
        "\n",
        "lr.fit(X_train,y_train)\n",
        "\n",
        "pred_lr=lr.predict(X_train)\n",
        "\n",
        "from sklearn import metrics\n",
        "    # acc=metrics.accuracy_score(pred_lr,y)\n",
        "\n",
        "mae_lr=metrics.mean_absolute_error(pred_lr,y_train)\n",
        "\n",
        "\n",
        "mse_lr=metrics.mean_squared_error(pred_lr,y_train)\n",
        "\n",
        "\n",
        "rsme_lr = math.sqrt(mse_lr)\n",
        "\n",
        "\n",
        "print(\"----------------------------------------------------\")\n",
        "print(\"Performance Analysis ----> Logistic Regression      \")\n",
        "print(\"----------------------------------------------------\")\n",
        "print()\n",
        "print()\n",
        "print(\"1. Mean Absolute Error :\", mae_lr)\n",
        "print()\n",
        "print(\"2. Mean Squared Error :\", mse_lr)\n",
        "print()\n",
        "print(\"3. Root Mean Squared Error :\", rsme_lr)"
      ],
      "metadata": {
        "colab": {
          "base_uri": "https://localhost:8080/"
        },
        "id": "crH8KB15pCVT",
        "outputId": "9b4b9691-d1c7-4a63-f17c-3f61dfd44faa"
      },
      "execution_count": null,
      "outputs": [
        {
          "output_type": "stream",
          "name": "stdout",
          "text": [
            "----------------------------------------------------\n",
            "Performance Analysis ----> Logistic Regression      \n",
            "----------------------------------------------------\n",
            "\n",
            "\n",
            "1. Mean Absolute Error : 0.37678207739307534\n",
            "\n",
            "2. Mean Squared Error : 0.37678207739307534\n",
            "\n",
            "3. Root Mean Squared Error : 0.6138257712030958\n"
          ]
        }
      ]
    },
    {
      "cell_type": "code",
      "source": [
        "#=========================== PREDICTION =================================\n",
        "\n",
        "print(\"----------------------------------------------------\")\n",
        "print(\"Prediction ----> Water Quality      \")\n",
        "print(\"----------------------------------------------------\")\n",
        "print()\n",
        "print()\n",
        "\n",
        "for i in range(0,10):\n",
        "  if pred_lr[i]==1:\n",
        "    print(\"-------------------------------------\")\n",
        "    print()\n",
        "    print([i],\"Safe ( Water Quality is Good)\")\n",
        "  else:\n",
        "    print(\"-------------------------------------\")\n",
        "    print()\n",
        "    print([i],\"Not Safe ( Water Quality is Not Good)\")\n",
        "    print()\n",
        "    print(\"-------------------------------------------------------------------\")\n",
        "    print()"
      ],
      "metadata": {
        "colab": {
          "base_uri": "https://localhost:8080/"
        },
        "id": "wrV8dMtMpCZT",
        "outputId": "159547c8-fc58-4b41-d07f-86163697bc29"
      },
      "execution_count": null,
      "outputs": [
        {
          "output_type": "stream",
          "name": "stdout",
          "text": [
            "----------------------------------------------------\n",
            "Prediction ----> Water Quality      \n",
            "----------------------------------------------------\n",
            "\n",
            "\n",
            "-------------------------------------\n",
            "\n",
            "[0] Not Safe ( Water Quality is Not Good)\n",
            "\n",
            "-------------------------------------------------------------------\n",
            "\n",
            "-------------------------------------\n",
            "\n",
            "[1] Not Safe ( Water Quality is Not Good)\n",
            "\n",
            "-------------------------------------------------------------------\n",
            "\n",
            "-------------------------------------\n",
            "\n",
            "[2] Not Safe ( Water Quality is Not Good)\n",
            "\n",
            "-------------------------------------------------------------------\n",
            "\n",
            "-------------------------------------\n",
            "\n",
            "[3] Not Safe ( Water Quality is Not Good)\n",
            "\n",
            "-------------------------------------------------------------------\n",
            "\n",
            "-------------------------------------\n",
            "\n",
            "[4] Not Safe ( Water Quality is Not Good)\n",
            "\n",
            "-------------------------------------------------------------------\n",
            "\n",
            "-------------------------------------\n",
            "\n",
            "[5] Not Safe ( Water Quality is Not Good)\n",
            "\n",
            "-------------------------------------------------------------------\n",
            "\n",
            "-------------------------------------\n",
            "\n",
            "[6] Not Safe ( Water Quality is Not Good)\n",
            "\n",
            "-------------------------------------------------------------------\n",
            "\n",
            "-------------------------------------\n",
            "\n",
            "[7] Not Safe ( Water Quality is Not Good)\n",
            "\n",
            "-------------------------------------------------------------------\n",
            "\n",
            "-------------------------------------\n",
            "\n",
            "[8] Not Safe ( Water Quality is Not Good)\n",
            "\n",
            "-------------------------------------------------------------------\n",
            "\n",
            "-------------------------------------\n",
            "\n",
            "[9] Not Safe ( Water Quality is Not Good)\n",
            "\n",
            "-------------------------------------------------------------------\n",
            "\n"
          ]
        }
      ]
    },
    {
      "cell_type": "code",
      "source": [
        "#=========================== PREDICTION =================================\n",
        "\n",
        "      # ==== COMPARISON GRAPH =====\n",
        "print()\n",
        "print(\"Error Value Must Be Low\")\n",
        "print()\n",
        "objects = ('CNN with LSTM', 'CNN with GRU', 'Logistic Regression')\n",
        "y_pos = np.arange(len(objects))\n",
        "performance = [mae_lstm,mae_gru,mae_lr]\n",
        "plt.bar(y_pos, performance, align='center', alpha=0.5)\n",
        "plt.xticks(y_pos, objects)\n",
        "plt.ylabel('Performance ')\n",
        "plt.title('Comparison Graph -- Error Values')\n",
        "plt.show()\n"
      ],
      "metadata": {
        "colab": {
          "base_uri": "https://localhost:8080/",
          "height": 504
        },
        "id": "-kQAm_RMr9q7",
        "outputId": "d26e70c5-9cbb-411a-b982-c59247c7b028"
      },
      "execution_count": null,
      "outputs": [
        {
          "output_type": "stream",
          "name": "stdout",
          "text": [
            "\n",
            "Error Value Must Be Low\n",
            "\n"
          ]
        },
        {
          "output_type": "display_data",
          "data": {
            "text/plain": [
              "<Figure size 640x480 with 1 Axes>"
            ],
            "image/png": "[encoded data removed]"
          },
          "metadata": {}
        }
      ]
    },
    {
      "cell_type": "code",
      "source": [],
      "metadata": {
        "id": "mLqIITBlpChK"
      },
      "execution_count": null,
      "outputs": []
    }
  ]
}